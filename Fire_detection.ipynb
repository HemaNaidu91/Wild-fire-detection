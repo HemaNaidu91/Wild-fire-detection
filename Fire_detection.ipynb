{
  "nbformat": 4,
  "nbformat_minor": 0,
  "metadata": {
    "colab": {
      "provenance": []
    },
    "kernelspec": {
      "name": "python3",
      "display_name": "Python 3"
    },
    "language_info": {
      "name": "python"
    }
  },
  "cells": [
    {
      "cell_type": "markdown",
      "source": [
        "# Fire Detection"
      ],
      "metadata": {
        "id": "mAD9nwv9NIcP"
      }
    },
    {
      "cell_type": "code",
      "source": [
        "!pip install opencv-python\n",
        "!pip install playsound"
      ],
      "metadata": {
        "colab": {
          "base_uri": "https://localhost:8080/"
        },
        "id": "3Qhjn60WN01y",
        "outputId": "8f93d1f4-9997-4a7a-8c4e-4713f06739a0"
      },
      "execution_count": 4,
      "outputs": [
        {
          "output_type": "stream",
          "name": "stdout",
          "text": [
            "Requirement already satisfied: opencv-python in /usr/local/lib/python3.11/dist-packages (4.11.0.86)\n",
            "Requirement already satisfied: numpy>=1.21.2 in /usr/local/lib/python3.11/dist-packages (from opencv-python) (1.26.4)\n",
            "Requirement already satisfied: playsound in /usr/local/lib/python3.11/dist-packages (1.3.0)\n"
          ]
        }
      ]
    },
    {
      "cell_type": "code",
      "source": [
        "import cv2\n",
        "import numpy as np\n",
        "import playsound as playsound"
      ],
      "metadata": {
        "id": "G8gBCSGeNS0X"
      },
      "execution_count": 9,
      "outputs": []
    },
    {
      "cell_type": "code",
      "source": [
        "cap = cv2.VideoCapture(0)\n",
        "\n",
        "red_min = np.array([0,120,70])\n",
        "red_max = np.array([10,255,255])\n",
        "\n",
        "alaram = \"alarm-301729.mp3\"\n",
        "alarm_flag = False\n",
        "cooldown_frames =  100\n",
        "current_frames = cooldown_frames\n",
        "min_counter_area =1000"
      ],
      "metadata": {
        "id": "fCAp6jciNVbN"
      },
      "execution_count": 10,
      "outputs": []
    },
    {
      "cell_type": "code",
      "source": [
        "while True:\n",
        " ret, frame =cap.read()\n",
        "if not ret:\n",
        "  break\n",
        "hsv = cv2.cvtColor(frame, cv2.COLOR_BGR2HSV)\n",
        "mask =cv2.inRange( hsv, red_min,red_max)"
      ],
      "metadata": {
        "id": "87S5s5IrNY_C"
      },
      "execution_count": null,
      "outputs": []
    },
    {
      "cell_type": "code",
      "source": [
        "#morphological operations to reduce noise\n",
        "kernal = np.ones((5,5) ,np.unit8)\n",
        "mask =cv2.dilate(mask , kernal , iterations= 1)\n",
        "mask  = cv2.erode(mask, kernal, iterations =1)\n",
        "\n",
        "contours , _  =  cv2.findCounters( mask ,cv2.RETER_EXTERNAL, CV2.CHAIN_APPROX_SIMPLE)"
      ],
      "metadata": {
        "id": "0YYUmCcJNbvG"
      },
      "execution_count": null,
      "outputs": []
    },
    {
      "cell_type": "code",
      "source": [
        "for counter in counters:\n",
        "   area =cv2.counterArea(counter)\n",
        "   if area < min_countour_area:\n",
        "      continue"
      ],
      "metadata": {
        "id": "XzlJIbPsNgzV"
      },
      "execution_count": null,
      "outputs": []
    },
    {
      "cell_type": "code",
      "source": [
        "#filter counters based on other properties if needed\n",
        "if not alarm_flag and current_frames == cooldown_frames:\n",
        "    playsound(alaram)\n",
        "    print(\"Fire Detected...!\")\n",
        "    alaram_flag =True"
      ],
      "metadata": {
        "id": "fPaa2iXyNjD5"
      },
      "execution_count": null,
      "outputs": []
    },
    {
      "cell_type": "code",
      "source": [
        "if alarm_flag:\n",
        "    current_frame -= 1\n",
        "    if current_frame = 0:\n",
        "    alarm_flag =  False\n",
        "    current_frames =  cooldown_frames\n",
        "\n",
        "cv2.draw_Counters(frames, contours,-1, (0,255,0),2)\n",
        "cv2.imshow( \" Fire Detection\" ,frame)\n",
        "\n",
        "if cv2.waitkey(1) & 0xFF = ord('q'):\n",
        " break\n"
      ],
      "metadata": {
        "id": "d_fIKzGJNlSk"
      },
      "execution_count": null,
      "outputs": []
    },
    {
      "cell_type": "code",
      "source": [
        "cap.release()\n",
        "cv2.destroyAllWindows()"
      ],
      "metadata": {
        "id": "rRxc3eO-Nn1s"
      },
      "execution_count": null,
      "outputs": []
    }
  ]
}